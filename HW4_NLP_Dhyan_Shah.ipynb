{
 "cells": [
  {
   "cell_type": "markdown",
   "metadata": {},
   "source": [
    "### MSDS  7337-404 - Natural Language Processing ###"
   ]
  },
  {
   "cell_type": "markdown",
   "metadata": {},
   "source": [
    "### Homework4 ###\n",
    "**Shah Dhyan**"
   ]
  },
  {
   "cell_type": "markdown",
   "metadata": {},
   "source": [
    "*** Question 1 ***\n",
    "\n",
    "****Run one of the part-of-speech (POS) taggers available in Python****\n",
    "\n",
    "**a**\n",
    "\n",
    "***Find the longest sentence you can,longer than 10 words, that the POS tagger tags correctly.***\n",
    "***Show the input and output.***"
   ]
  },
  {
   "cell_type": "code",
   "execution_count": 15,
   "metadata": {},
   "outputs": [
    {
     "name": "stdout",
     "output_type": "stream",
     "text": [
      "pattern 2.6\n"
     ]
    },
    {
     "ename": "IndentationError",
     "evalue": "expected an indented block (tree.py, line 37)",
     "output_type": "error",
     "traceback": [
      "Traceback \u001b[0;36m(most recent call last)\u001b[0m:\n",
      "  File \u001b[1;32m\"/Users/Dhyan/opt/anaconda3/lib/python3.7/site-packages/IPython/core/interactiveshell.py\"\u001b[0m, line \u001b[1;32m3326\u001b[0m, in \u001b[1;35mrun_code\u001b[0m\n    exec(code_obj, self.user_global_ns, self.user_ns)\n",
      "  File \u001b[1;32m\"<ipython-input-15-fde73ce040d7>\"\u001b[0m, line \u001b[1;32m3\u001b[0m, in \u001b[1;35m<module>\u001b[0m\n    from pattern3.en import tag;\n",
      "  File \u001b[1;32m\"/Users/Dhyan/opt/anaconda3/lib/python3.7/site-packages/pattern3/text/en/__init__.py\"\u001b[0m, line \u001b[1;32m22\u001b[0m, in \u001b[1;35m<module>\u001b[0m\n    from pattern3.text import (\n",
      "\u001b[0;36m  File \u001b[0;32m\"/Users/Dhyan/opt/anaconda3/lib/python3.7/site-packages/pattern3/text/__init__.py\"\u001b[0;36m, line \u001b[0;32m28\u001b[0;36m, in \u001b[0;35m<module>\u001b[0;36m\u001b[0m\n\u001b[0;31m    from pattern3.text.tree import Tree, Text, Sentence, Slice, Chunk, PNPChunk, Chink, Word, table\u001b[0m\n",
      "\u001b[0;36m  File \u001b[0;32m\"/Users/Dhyan/opt/anaconda3/lib/python3.7/site-packages/pattern3/text/tree.py\"\u001b[0;36m, line \u001b[0;32m37\u001b[0m\n\u001b[0;31m    except:\u001b[0m\n\u001b[0m         ^\u001b[0m\n\u001b[0;31mIndentationError\u001b[0m\u001b[0;31m:\u001b[0m expected an indented block\n"
     ]
    }
   ],
   "source": [
    "import pattern3; print( 'pattern ' + pattern3.__version__)\n",
    "\n",
    "from pattern3.en import tag;\n",
    "import spacy; print( 'spacy ' + spacy.__version__)"
   ]
  },
  {
   "cell_type": "code",
   "execution_count": 18,
   "metadata": {},
   "outputs": [],
   "source": [
    "Long_Sent = ' Competing on analytics means competing on technology. And while the most serious competitors investigatethe latest statistical algorithms and decision science approaches, they also constantly monitor and push the IT frontier. The analytics group at one consumer products company went so far as to build its own supercomputer because it felt that commercially available models were inadequate for its demands.'\n",
    "Short_Sent = 'The right technology'\n",
    "News_Sent = 'The Oakland A’s aren’t the only ones playingmoneyball.'\n",
    "# excerpts from book Competing With Analytics"
   ]
  },
  {
   "cell_type": "code",
   "execution_count": 19,
   "metadata": {},
   "outputs": [
    {
     "data": {
      "text/plain": [
       "60"
      ]
     },
     "execution_count": 19,
     "metadata": {},
     "output_type": "execute_result"
    }
   ],
   "source": [
    "len(Long_Sent.split(' '))"
   ]
  },
  {
   "cell_type": "code",
   "execution_count": 20,
   "metadata": {},
   "outputs": [
    {
     "ename": "NameError",
     "evalue": "name 'tag' is not defined",
     "output_type": "error",
     "traceback": [
      "\u001b[0;31m---------------------------------------------------------------------------\u001b[0m",
      "\u001b[0;31mNameError\u001b[0m                                 Traceback (most recent call last)",
      "\u001b[0;32m<ipython-input-20-d7a62e1c8fc2>\u001b[0m in \u001b[0;36m<module>\u001b[0;34m\u001b[0m\n\u001b[0;32m----> 1\u001b[0;31m \u001b[0mtag\u001b[0m\u001b[0;34m(\u001b[0m\u001b[0mLong_Sent\u001b[0m\u001b[0;34m)\u001b[0m\u001b[0;34m\u001b[0m\u001b[0;34m\u001b[0m\u001b[0m\n\u001b[0m",
      "\u001b[0;31mNameError\u001b[0m: name 'tag' is not defined"
     ]
    }
   ],
   "source": [
    "tag(Long_Sent)"
   ]
  },
  {
   "cell_type": "code",
   "execution_count": null,
   "metadata": {},
   "outputs": [],
   "source": [
    "tag(Short_Sent)"
   ]
  }
 ],
 "metadata": {
  "kernelspec": {
   "display_name": "Python 3",
   "language": "python",
   "name": "python3"
  },
  "language_info": {
   "codemirror_mode": {
    "name": "ipython",
    "version": 3
   },
   "file_extension": ".py",
   "mimetype": "text/x-python",
   "name": "python",
   "nbconvert_exporter": "python",
   "pygments_lexer": "ipython3",
   "version": "3.7.4"
  }
 },
 "nbformat": 4,
 "nbformat_minor": 4
}
