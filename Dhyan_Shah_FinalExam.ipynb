{
 "cells": [
  {
   "cell_type": "code",
   "execution_count": 59,
   "metadata": {},
   "outputs": [
    {
     "name": "stderr",
     "output_type": "stream",
     "text": [
      "[nltk_data] Downloading package stopwords to /Users/Dhyan/nltk_data...\n",
      "[nltk_data]   Package stopwords is already up-to-date!\n"
     ]
    }
   ],
   "source": [
    "import nltk\n",
    "nltk.download('stopwords')\n",
    "from nltk.corpus import stopwords"
   ]
  },
  {
   "cell_type": "code",
   "execution_count": 45,
   "metadata": {},
   "outputs": [],
   "source": [
    "import pandas as pd\n",
    "import numpy as np\n",
    "import re\n",
    "import warnings\n",
    "import seaborn as sns\n",
    "\n",
    "import matplotlib.pyplot as plt\n",
    "from sklearn.model_selection import train_test_split\n",
    "from sklearn.svm import LinearSVC\n",
    "from sklearn.feature_extraction.text import TfidfVectorizer\n",
    "from sklearn.metrics import classification_report, confusion_matrix, accuracy_score"
   ]
  },
  {
   "cell_type": "code",
   "execution_count": 46,
   "metadata": {},
   "outputs": [],
   "source": [
    "f= open(\"Review.txt\",\"w+\")"
   ]
  },
  {
   "cell_type": "code",
   "execution_count": 47,
   "metadata": {},
   "outputs": [],
   "source": [
    "for i in range(1):\n",
    "     f.write(\"I took my father out for dinner to Le Bistro on New Year’s Eve. The décor and service were fantastic. We enjoyed the food, especially their French countryside specials and their Chardonnay collections. However, my father thought the menu prices were a bit on the high side. Valet parking was also expensive. Overall, we definitely recommend Le Bistro for special occasions!”Overall rating: 8 stars out of 10 %d\\r\\n\" % (i+0))"
   ]
  },
  {
   "cell_type": "code",
   "execution_count": 48,
   "metadata": {},
   "outputs": [],
   "source": [
    "def openFile(path):\n",
    "    #param path: path/to/file.ext (str)\n",
    "    #Returns contents of file (str)\n",
    "    with open(path) as file:\n",
    "        data = file.read()\n",
    "    return data\n",
    "_data = openFile('/Users/Dhyan/NLP/FinalExam/Review.txt')\n",
    "#txt = openFile('/Users/Dhyan/Applications/NLP_Final/FinalExam.txt').read_text(decoding=\"utf-8\")"
   ]
  },
  {
   "cell_type": "code",
   "execution_count": 49,
   "metadata": {},
   "outputs": [],
   "source": [
    "datasets = [_data]\n",
    "\n",
    "combined_dataset = []\n",
    "# separate samples from each other\n",
    "for dataset in datasets:\n",
    "    combined_dataset.extend(dataset.split('\\n'))\n",
    "\n",
    "# separate each label from each sample\n",
    "dataset = [sample.split('\\t') for sample in combined_dataset]"
   ]
  },
  {
   "cell_type": "code",
   "execution_count": 50,
   "metadata": {},
   "outputs": [],
   "source": [
    "df = pd.DataFrame(data=dataset, columns=['Reviews'])"
   ]
  },
  {
   "cell_type": "code",
   "execution_count": 51,
   "metadata": {},
   "outputs": [],
   "source": [
    "# Remove any blank reviews\n",
    "df = df[df[\"Reviews\"].notnull()]\n",
    "\n",
    "# shuffle the dataset for later.\n",
    "# Note this isn't necessary (the dataset is shuffled again before used), \n",
    "# but is good practice.\n",
    "df = df.sample(frac=1)"
   ]
  },
  {
   "cell_type": "code",
   "execution_count": 52,
   "metadata": {},
   "outputs": [],
   "source": [
    "import string\n",
    "\n",
    "df['Word Count'] = [len(review.split()) for review in df['Reviews']]\n",
    "\n",
    "df['Uppercase Char Count'] = [sum(char.isupper() for char in review) \\\n",
    "                              for review in df['Reviews']]                           \n",
    "\n",
    "df['Special Char Count'] = [sum(char in string.punctuation for char in review) \\\n",
    "                            for review in df['Reviews']]  "
   ]
  },
  {
   "cell_type": "code",
   "execution_count": 54,
   "metadata": {},
   "outputs": [],
   "source": [
    "Positive = df['Word Count'].describe()\n",
    "Uppercase = df['Uppercase Char Count'].describe()\n",
    "Lower = df['Special Char Count'].describe()"
   ]
  },
  {
   "cell_type": "code",
   "execution_count": 55,
   "metadata": {},
   "outputs": [
    {
     "data": {
      "text/plain": [
       "count     2.000000\n",
       "mean     34.000000\n",
       "std      48.083261\n",
       "min       0.000000\n",
       "25%      17.000000\n",
       "50%      34.000000\n",
       "75%      51.000000\n",
       "max      68.000000\n",
       "Name: Word Count, dtype: float64"
      ]
     },
     "execution_count": 55,
     "metadata": {},
     "output_type": "execute_result"
    }
   ],
   "source": [
    "Positive"
   ]
  },
  {
   "cell_type": "code",
   "execution_count": 56,
   "metadata": {},
   "outputs": [
    {
     "data": {
      "text/plain": [
       "count     2.000000\n",
       "mean      8.000000\n",
       "std      11.313708\n",
       "min       0.000000\n",
       "25%       4.000000\n",
       "50%       8.000000\n",
       "75%      12.000000\n",
       "max      16.000000\n",
       "Name: Uppercase Char Count, dtype: float64"
      ]
     },
     "execution_count": 56,
     "metadata": {},
     "output_type": "execute_result"
    }
   ],
   "source": [
    "Uppercase"
   ]
  },
  {
   "cell_type": "code",
   "execution_count": 57,
   "metadata": {},
   "outputs": [
    {
     "data": {
      "text/plain": [
       "count     2.000000\n",
       "mean      5.000000\n",
       "std       7.071068\n",
       "min       0.000000\n",
       "25%       2.500000\n",
       "50%       5.000000\n",
       "75%       7.500000\n",
       "max      10.000000\n",
       "Name: Special Char Count, dtype: float64"
      ]
     },
     "execution_count": 57,
     "metadata": {},
     "output_type": "execute_result"
    }
   ],
   "source": [
    "Lower"
   ]
  },
  {
   "cell_type": "code",
   "execution_count": 58,
   "metadata": {},
   "outputs": [],
   "source": [
    "from collections import Counter\n",
    "\n",
    "def getMostCommonWords(reviews, n_most_common, stopwords=None):\n",
    "    # param reviews: column from pandas.DataFrame (e.g. df['Reviews']) \n",
    "        #(pandas.Series)\n",
    "    # param n_most_common: the top n most common words in reviews (int)\n",
    "    # param stopwords: list of stopwords (str) to remove from reviews (list)\n",
    "    # Returns list of n_most_common words organized in tuples as \n",
    "        #('term', frequency) (list)\n",
    "\n",
    "    # flatten review column into a list of words, and set each to lowercase\n",
    "    flattened_reviews = [word for review in reviews for word in \\\n",
    "                         review.lower().split()]\n",
    "\n",
    "\n",
    "    # remove punctuation from reviews\n",
    "    flattened_reviews = [''.join(char for char in review if \\\n",
    "                                 char not in string.punctuation) for \\\n",
    "                         review in flattened_reviews]\n",
    "\n",
    "\n",
    "    # remove stopwords, if applicable\n",
    "    if stopwords:\n",
    "        flattened_reviews = [word for word in flattened_reviews if \\\n",
    "                             word not in stopwords]\n",
    "\n",
    "\n",
    "    # remove any empty strings that were created by this process\n",
    "    flattened_reviews = [review for review in flattened_reviews if review]\n",
    "\n",
    "    return Counter(flattened_reviews).most_common(n_most_common)"
   ]
  },
  {
   "cell_type": "code",
   "execution_count": 63,
   "metadata": {},
   "outputs": [
    {
     "data": {
      "text/plain": [
       "[('the', 4),\n",
       " ('my', 2),\n",
       " ('father', 2),\n",
       " ('out', 2),\n",
       " ('for', 2),\n",
       " ('le', 2),\n",
       " ('bistro', 2),\n",
       " ('on', 2),\n",
       " ('and', 2),\n",
       " ('were', 2)]"
      ]
     },
     "execution_count": 63,
     "metadata": {},
     "output_type": "execute_result"
    }
   ],
   "source": [
    "getMostCommonWords(df['Reviews'], 10)"
   ]
  },
  {
   "cell_type": "code",
   "execution_count": 64,
   "metadata": {},
   "outputs": [
    {
     "data": {
      "text/plain": [
       "[('father', 2),\n",
       " ('le', 2),\n",
       " ('bistro', 2),\n",
       " ('took', 1),\n",
       " ('dinner', 1),\n",
       " ('new', 1),\n",
       " ('year’s', 1),\n",
       " ('eve', 1),\n",
       " ('décor', 1),\n",
       " ('service', 1)]"
      ]
     },
     "execution_count": 64,
     "metadata": {},
     "output_type": "execute_result"
    }
   ],
   "source": [
    "getMostCommonWords(df['Reviews'], 10, stopwords.words('english'))"
   ]
  },
  {
   "cell_type": "code",
   "execution_count": 66,
   "metadata": {},
   "outputs": [],
   "source": [
    "from sklearn.feature_extraction.text import TfidfVectorizer\n",
    "\n",
    "vectorizer = TfidfVectorizer()\n",
    "bow = vectorizer.fit_transform(df['Reviews'])\n"
   ]
  },
  {
   "cell_type": "code",
   "execution_count": null,
   "metadata": {},
   "outputs": [],
   "source": [
    "labels = df['Labels']"
   ]
  }
 ],
 "metadata": {
  "kernelspec": {
   "display_name": "Python 3",
   "language": "python",
   "name": "python3"
  },
  "language_info": {
   "codemirror_mode": {
    "name": "ipython",
    "version": 3
   },
   "file_extension": ".py",
   "mimetype": "text/x-python",
   "name": "python",
   "nbconvert_exporter": "python",
   "pygments_lexer": "ipython3",
   "version": "3.7.4"
  }
 },
 "nbformat": 4,
 "nbformat_minor": 4
}
