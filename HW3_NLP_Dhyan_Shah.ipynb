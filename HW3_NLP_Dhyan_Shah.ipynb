{
 "cells": [
  {
   "cell_type": "markdown",
   "metadata": {},
   "source": [
    "### MSDS  7337-404 - Natural Language Processing ###"
   ]
  },
  {
   "cell_type": "markdown",
   "metadata": {},
   "source": [
    "### Homework3 ###\n",
    "**Shah Dhyan**"
   ]
  },
  {
   "cell_type": "markdown",
   "metadata": {},
   "source": [
    "### Question 1 ###"
   ]
  },
  {
   "cell_type": "markdown",
   "metadata": {},
   "source": [
    "Compare your given name with your nickname (if you don’t have a nickname, invent one for this assignment) by answering the following questions:"
   ]
  },
  {
   "cell_type": "markdown",
   "metadata": {},
   "source": [
    "     Name: Dhyan"
   ]
  },
  {
   "cell_type": "markdown",
   "metadata": {},
   "source": [
    "    NickName: Dan"
   ]
  },
  {
   "cell_type": "markdown",
   "metadata": {},
   "source": [
    "#### 1.a What is the edit distance between your nickname and your given name?"
   ]
  },
  {
   "cell_type": "markdown",
   "metadata": {},
   "source": [
    "     D - h - y - a - n "
   ]
  },
  {
   "cell_type": "markdown",
   "metadata": {},
   "source": [
    "     Edit distance = 3"
   ]
  },
  {
   "cell_type": "markdown",
   "metadata": {},
   "source": [
    "#### 1.b What is the percentage string match between your nickname and your given name?"
   ]
  },
  {
   "cell_type": "markdown",
   "metadata": {},
   "source": [
    "     3 strings matching\n",
    "\n",
    "     2 strings NOT matching\n",
    "\n",
    "     60% matching"
   ]
  },
  {
   "cell_type": "markdown",
   "metadata": {},
   "source": [
    "### Question 2 ###"
   ]
  },
  {
   "cell_type": "markdown",
   "metadata": {},
   "source": [
    "Find a friend (or family member or classmate) who you know has read a certain book. Without your friend knowing, copy the first two sentences of that book. Now rewrite the words from those sentences, excluding stop words. Now tell your friend to guess which book the words are from by reading them just that list of words. Did you friend correctly guess the book on the first try? What did he or she guess? Explain why you think you friend either was or was not able to guess the book from hearing the list of words."
   ]
  },
  {
   "cell_type": "markdown",
   "metadata": {},
   "source": [
    "    Book Title: Competing on Analytics"
   ]
  },
  {
   "cell_type": "markdown",
   "metadata": {},
   "source": [
    "By analytics we mean the extensie use of data, statistical and quantitive analysis, explanatory and predictive models, and fact-based management to drive decisions and actions. The analytics may be input for human decisions or may drive fully automated decisions. Analytics are a subset of what has come to be called business intelligence: a set of technologies and processes that use data to understand and analyze business performance. "
   ]
  },
  {
   "cell_type": "code",
   "execution_count": 8,
   "metadata": {},
   "outputs": [],
   "source": [
    "from nltk.tokenize import word_tokenize"
   ]
  },
  {
   "cell_type": "code",
   "execution_count": 9,
   "metadata": {},
   "outputs": [],
   "source": [
    "from nltk.stem.porter import PorterStemmer"
   ]
  },
  {
   "cell_type": "code",
   "execution_count": 10,
   "metadata": {},
   "outputs": [],
   "source": [
    "from nltk.corpus import stopwords"
   ]
  },
  {
   "cell_type": "code",
   "execution_count": 11,
   "metadata": {},
   "outputs": [],
   "source": [
    "from nltk.corpus import wordnet"
   ]
  },
  {
   "cell_type": "code",
   "execution_count": 12,
   "metadata": {},
   "outputs": [],
   "source": [
    "import re"
   ]
  },
  {
   "cell_type": "code",
   "execution_count": 14,
   "metadata": {},
   "outputs": [],
   "source": [
    "Competing_on_Analytics = 'By analytics we mean the extensie use of data, statistical and quantitive analysis, explanatory and predictive models, and fact-based management to drive decisions and actions. The analytics may be input for human decisions or may drive fully automated decisions. Analytics are a subset of what has come to be called business intelligence: a set of technologies and processes that use data to understand and analyze business performance.'"
   ]
  },
  {
   "cell_type": "code",
   "execution_count": 15,
   "metadata": {},
   "outputs": [],
   "source": [
    "def remove_stop_words_from_text(text):\n",
    "    words = word_tokenize(text)\n",
    "\n",
    "    stop_words = set(stopwords.words('english'))\n",
    "    return ' '.join([w for w in words if not w in stop_words])"
   ]
  },
  {
   "cell_type": "code",
   "execution_count": 16,
   "metadata": {},
   "outputs": [
    {
     "data": {
      "text/plain": [
       "'By analytics mean extensie use data , statistical quantitive analysis , explanatory predictive models , fact-based management drive decisions actions . The analytics may input human decisions may drive fully automated decisions . Analytics subset come called business intelligence : set technologies processes use data understand analyze business performance .'"
      ]
     },
     "execution_count": 16,
     "metadata": {},
     "output_type": "execute_result"
    }
   ],
   "source": [
    "remove_stop_words_from_text(Competing_on_Analytics)"
   ]
  },
  {
   "cell_type": "markdown",
   "metadata": {},
   "source": [
    "#### 2a. Did your friend correctly guess the book on the first try? "
   ]
  },
  {
   "cell_type": "markdown",
   "metadata": {},
   "source": [
    "        Yes"
   ]
  },
  {
   "cell_type": "markdown",
   "metadata": {},
   "source": [
    "#### 2b. What did your friend guess?"
   ]
  },
  {
   "cell_type": "markdown",
   "metadata": {},
   "source": [
    "        Competing on Analytic author name - Tom Devenport book"
   ]
  },
  {
   "cell_type": "markdown",
   "metadata": {},
   "source": [
    "#### 2c. Explain why your friend eiter was or was not able to guess the book from hearing the list of words. "
   ]
  },
  {
   "cell_type": "markdown",
   "metadata": {},
   "source": [
    "        Keywords like management, analytics, human decisions, business intelligence and automated decisions "
   ]
  },
  {
   "cell_type": "markdown",
   "metadata": {},
   "source": [
    "### Question 3 ###"
   ]
  },
  {
   "cell_type": "markdown",
   "metadata": {},
   "source": [
    "Run one of the stemmers available in Python. Run the same two sentences from question 2 above through the stemmer and show the results. How many of the outputted stems are valid morphological roots of the corresponding words? Express this answer as a percentage."
   ]
  },
  {
   "cell_type": "code",
   "execution_count": 18,
   "metadata": {},
   "outputs": [],
   "source": [
    "def is_true_word(word):\n",
    "    return len(wordnet.synsets(word)) > 0"
   ]
  },
  {
   "cell_type": "code",
   "execution_count": 20,
   "metadata": {},
   "outputs": [],
   "source": [
    "def how_many_words_are_true(text):\n",
    "    # only take out words\n",
    "    text = re.sub(r'[^\\w\\s]+', '', text)\n",
    "    words = word_tokenize(text)\n",
    "    stemmer = PorterStemmer()\n",
    "    \n",
    "    stem_words = [stemmer.stem(w) for w in words]\n",
    "    \n",
    "    false_words = []\n",
    "    true_words = []\n",
    "   \n",
    "    \n",
    "    for word in stem_words:\n",
    "        if is_true_word(word):\n",
    "            true_words.append(word)\n",
    "        else:\n",
    "            false_words.append(word)\n",
    "\n",
    "    percent_true = len(true_words) / float(len(words))\n",
    "\n",
    "    print('{} True Words: \"{}\"'.format(len(true_words), ', '.join(true_words)))\n",
    "    print('{} False Words: \"{}\"'.format(len(false_words), ', '.join(false_words)))\n",
    "    print()\n",
    "    print('{0:.0%} Percent True'.format(percent_true))"
   ]
  },
  {
   "cell_type": "code",
   "execution_count": 22,
   "metadata": {},
   "outputs": [
    {
     "name": "stdout",
     "output_type": "stream",
     "text": [
      "29 True Words: \"By, mean, use, data, predict, model, drive, action, may, be, input, human, or, may, drive, are, a, subset, ha, come, be, call, a, set, process, use, data, understand, perform\"\n",
      "38 False Words: \"analyt, we, the, extensi, of, statist, and, quantit, analysi, explanatori, and, and, factbas, manag, to, decis, and, the, analyt, for, decis, fulli, autom, decis, analyt, of, what, to, busi, intellig, of, technolog, and, that, to, and, analyz, busi\"\n",
      "\n",
      "43% Percent True\n"
     ]
    }
   ],
   "source": [
    "how_many_words_are_true(Competing_on_Analytics)"
   ]
  }
 ],
 "metadata": {
  "kernelspec": {
   "display_name": "Python 3",
   "language": "python",
   "name": "python3"
  },
  "language_info": {
   "codemirror_mode": {
    "name": "ipython",
    "version": 3
   },
   "file_extension": ".py",
   "mimetype": "text/x-python",
   "name": "python",
   "nbconvert_exporter": "python",
   "pygments_lexer": "ipython3",
   "version": "3.7.4"
  }
 },
 "nbformat": 4,
 "nbformat_minor": 4
}
